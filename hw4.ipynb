{
 "cells": [
  {
   "cell_type": "code",
   "execution_count": 2,
   "metadata": {},
   "outputs": [],
   "source": [
    "import numpy as np\n",
    "import pandas as pd\n",
    "import matplotlib.pyplot as plt\n",
    "\n",
    "from sklearn import svm\n",
    "from sklearn.model_selection import KFold\n",
    "from sklearn.model_selection import cross_val_score\n",
    "from sklearn.metrics import hamming_loss, make_scorer\n",
    "from sklearn import preprocessing\n",
    "\n",
    "import time\n",
    "import math"
   ]
  },
  {
   "cell_type": "code",
   "execution_count": 112,
   "metadata": {},
   "outputs": [],
   "source": [
    "# helper functions here\n",
    "\n",
    "# Problem 1 - part b - sec i - passive learning\n",
    "# Return 90 test errors of 90 SVMs trained on 10, 20, 30 ... 900 data\n",
    "def procedure_1bi(train_data, test_data):\n",
    "    # instead of select 10 random points in training at a time\n",
    "    # shuffle the entire train data set\n",
    "    # select 10, 20, 30, etc. of the shuffled data set\n",
    "    # no repeats in each selection\n",
    "    np.random.shuffle(train_data)\n",
    "\n",
    "    data = train_data[:,:4]\n",
    "    label = train_data[:,4]\n",
    "\n",
    "    # parameter from 10^-3 to 10^6 up to 20 values log scale\n",
    "    penalty_list = np.logspace(-3, 6, 20, endpoint=True)\n",
    "    error_dict = {}\n",
    "    it = 1\n",
    "    for i in range(90):\n",
    "        pool = 10*(i+1)\n",
    "        X = data[:pool]\n",
    "        y = label[:pool]\n",
    "\n",
    "        # at each iteration, increase train size by 10, 20, 30 ... 900\n",
    "        # dual=False when n_samples > n_features.\n",
    "        cv_dict = {}\n",
    "        for c in penalty_list:\n",
    "            clf = svm.LinearSVC(penalty='l1', dual=False, C=c)\n",
    "            # 10-fold CV to select penalty parameter with best CV error\n",
    "            # scores = cross_val_score(clf, X, y, cv=10, scoring='f1')\n",
    "            kf = KFold(n_splits=10)\n",
    "            scores = []\n",
    "            for train_index, test_index in kf.split(X):\n",
    "                X_train, X_test = X[train_index], X[test_index]\n",
    "                y_train, y_test = y[train_index], y[test_index]\n",
    "                clf.fit(X_train, y_train)\n",
    "                scores.append(clf.score(X_test, y_test))\n",
    "\n",
    "            cv_dict[c] = np.average(np.array(scores))\n",
    "\n",
    "        # best c with max mean accuracy score\n",
    "        opt_c = max(cv_dict, key= cv_dict.get)\n",
    "        # print(\"iter:\", it, \"cv result:\", opt_c)\n",
    "\n",
    "        # model with opt penalty parameter from CV\n",
    "        clf = svm.LinearSVC(penalty='l1', dual=False, C=opt_c)\n",
    "        clf.fit(X, y)\n",
    "\n",
    "        # error in terms of mean accuracy score\n",
    "        test_error = clf.score(test_data[:,:4], test_data[:,4])\n",
    "        error_dict[it] = test_error\n",
    "        # print(\"iter:\", it, \"test_error:\", test_error)\n",
    "\n",
    "        it += 1\n",
    "    return error_dict\n",
    "\n",
    "\n",
    "# Problem 1 - part b - sec ii - active learning\n",
    "# Return 90 test errors of 90 SVMs trained on 10, 20, 30 ... 900 data\n",
    "# builds training size based on closest to the hyperplane per iteration\n",
    "def procedure_1bii(train_data, test_data):\n",
    "    # initial state\n",
    "    active_pool = train_data[:10]\n",
    "    train_data = np.delete(train_data, np.s_[:10], axis=0)\n",
    "\n",
    "    #active_pool = np.append(active_pool, train_data[:5], axis=0)\n",
    "    #print(\"active_pool:\", active_pool.shape[0])\n",
    "\n",
    "    penalty_list = np.logspace(-3, 6, 20, endpoint=True)\n",
    "    error_dict = {}\n",
    "    for i in range(90):\n",
    "        X = active_pool[:,:4]\n",
    "        y = active_pool[:,4]\n",
    "\n",
    "        kf = KFold(n_splits=10)\n",
    "        cv_dict = {}\n",
    "        for c in penalty_list:\n",
    "            clf = svm.LinearSVC(penalty='l1', dual=False, C=c)\n",
    "            # 10-fold CV to select penalty parameter with best CV error\n",
    "            scores = cross_val_score(clf, X, y, cv=kf, scoring='accuracy')\n",
    "            cv_dict[c] = np.average(np.array(scores))\n",
    "        opt_c = max(cv_dict, key= cv_dict.get)\n",
    "\n",
    "        # model with opt penalty parameter from CV\n",
    "        clf = svm.LinearSVC(penalty='l1', dual=False, C=opt_c)\n",
    "        clf.fit(X, y)\n",
    "\n",
    "        # error in terms of mean accuracy score\n",
    "        test_error = clf.score(test_data[:,:4], test_data[:,4])\n",
    "        error_dict[i+1] = test_error\n",
    "\n",
    "        # ref: http://scikit-learn.org/stable/modules/generated/sklearn.svm.LinearSVC.html#sklearn.svm.LinearSVC\n",
    "        # confidence score for a sample is the signed distance of that sample to the hyperplane.\n",
    "        # decision_function() returns confidence score for samples X\n",
    "\n",
    "        if(train_data.shape[0] != 0):\n",
    "            candidate_support = clf.decision_function(train_data[:,:4])\n",
    "            candidate_support = np.array([abs(i) for i in candidate_support])\n",
    "\n",
    "            # sorted index list from closest to most far from hyperplace\n",
    "            # index list of 10 closest to hyperplane\n",
    "            candidate_index = np.argsort(candidate_support)[:10]\n",
    "\n",
    "            # remove 10 closest from train_data\n",
    "            # append it to the active_pool for next iteration\n",
    "            active_pool = np.append(active_pool, train_data[candidate_index], axis=0)\n",
    "            train_data = np.delete(train_data, np.s_[candidate_index], axis=0)\n",
    "    return error_dict\n",
    "\n",
    "\n",
    "def procedure_2bii(X, y):\n",
    "    penalty_list = np.logspace(-3, 6, 20, endpoint=True) # penalty to cv\n",
    "    sigma_list = np.arange(0.1, 2.1, 0.1) # width of rbf kernel\n",
    "    scoring = make_scorer(hamming_loss)\n",
    "\n",
    "    kf = KFold(n_splits=10)\n",
    "    cv_dict = {}\n",
    "    for p in penalty_list:\n",
    "        for s in sigma_list:\n",
    "            # print(\"cv:\", p, s)\n",
    "            clf = svm.SVC(C=p, kernel='rbf', gamma=s, decision_function_shape='ovr')\n",
    "            scores = cross_val_score(clf, X, y, cv=kf, scoring=scoring)\n",
    "            cv_dict[(p,s)] = np.average(np.array(scores))\n",
    "            \n",
    "    # arg with lowest hamming_loss value\n",
    "    opt_p, opt_s = min(cv_dict, key= cv_dict.get)\n",
    "    \n",
    "    return opt_p, opt_s, cv_dict[(opt_p, opt_s)]\n",
    "\n",
    "def get_test_error_2bii(X_train, y_train, X_test, y_test, p, s):\n",
    "    clf = svm.SVC(C=p, kernel='rbf', gamma=s, decision_function_shape='ovr')\n",
    "    clf.fit(X_train, y_train)\n",
    "    y_pred = clf.predict(X_test)\n",
    "    return hamming_loss(y_test, y_pred)\n",
    "\n",
    "# handler for problem 2b sec iii\n",
    "# return cv L1 penalty, cv error for L1 SVM\n",
    "def procedure_2biii(X, y):\n",
    "    # standarize features X to zero mean and unit variance\n",
    "    X_scaled = preprocessing.scale(X)\n",
    "    \n",
    "    penalty_list = np.logspace(-3, 6, 20, endpoint=True) # penalty to cv\n",
    "    scoring = make_scorer(hamming_loss)\n",
    "    \n",
    "    # 10-fold CV to select penalty parameter with best CV error    \n",
    "    kf = KFold(n_splits=10)\n",
    "    cv_dict = {}\n",
    "    for p in penalty_list:\n",
    "        # prefer dual=False when n_samples > n_features.\n",
    "        clf = svm.LinearSVC(penalty='l1', dual=False, C=p, multi_class='ovr')\n",
    "        scores = cross_val_score(clf, X_scaled, y, cv=kf, scoring=scoring)\n",
    "        cv_dict[p] = np.average(np.array(scores))\n",
    "    opt_p = min(cv_dict, key= cv_dict.get)\n",
    "    \n",
    "    return opt_p, cv_dict[opt_p]\n",
    "\n",
    "def get_test_error_2biii(X_train, y_train, X_test, y_test, p):\n",
    "    X_train_scaled = preprocessing.scale(X_train)\n",
    "    X_test_scaled = preprocessing.scale(X_test)\n",
    "    \n",
    "    clf = svm.LinearSVC(penalty='l1', dual=False, C=p, multi_class='ovr')\n",
    "    clf.fit(X_train_scaled, y_train)\n",
    "    y_pred = clf.predict(X_test_scaled)\n",
    "    return hamming_loss(y_test, y_pred)\n",
    "\n",
    "\n",
    "# handler for problem 2b sec iv (class balanced)\n",
    "# return penalty, width of kernel, cv error\n",
    "def procedure_2biv(X, y):\n",
    "    penalty_list = np.logspace(-3, 6, 20, endpoint=True) # penalty to cv\n",
    "    sigma_list = np.arange(0.1, 2.1, 0.1) # width of rbf kernel\n",
    "    scoring = make_scorer(hamming_loss)\n",
    "\n",
    "    kf = KFold(n_splits=10)\n",
    "    cv_dict = {}\n",
    "    for p in penalty_list:\n",
    "        for s in sigma_list:\n",
    "            # print(\"cv:\", p, s)\n",
    "            clf = svm.SVC(C=p, kernel='rbf', gamma=s, class_weight='balanced', decision_function_shape='ovr')\n",
    "            scores = cross_val_score(clf, X, y, cv=kf, scoring=scoring)\n",
    "            cv_dict[(p,s)] = np.average(np.array(scores))\n",
    "            \n",
    "    # arg with lowest hamming_loss value\n",
    "    opt_p, opt_s = min(cv_dict, key= cv_dict.get)\n",
    "    \n",
    "    return opt_p, opt_s, cv_dict[(opt_p, opt_s)]\n",
    "\n",
    "def get_test_error_2biv(X_train, y_train, X_test, y_test, p, s):\n",
    "    clf = svm.SVC(C=p, kernel='rbf', gamma=s, class_weight='balanced', decision_function_shape='ovr')\n",
    "    clf.fit(X_train, y_train)\n",
    "    y_pred = clf.predict(X_test)\n",
    "    return hamming_loss(y_test, y_pred)"
   ]
  },
  {
   "cell_type": "code",
   "execution_count": 59,
   "metadata": {},
   "outputs": [],
   "source": [
    "# file path locations for hw4\n",
    "\n",
    "# for problem 1\n",
    "# converted data_banknote_authentication.txt to csv\n",
    "# changed extension from txt to csv (already comma-separated data)\n",
    "dirpath = \"/Users/ymkim/Desktop/inf552-hw4-workspace/data/\"\n",
    "filename = \"data_banknote_authentication.csv\"\n",
    "\n",
    "# for problem 2\n",
    "dirpath2 = \"/Users/ymkim/Desktop/inf552-hw4-workspace/data/Anuran Calls (MFCCs)/\"\n",
    "filename2 = \"Frogs_MFCCs.csv\""
   ]
  },
  {
   "cell_type": "markdown",
   "metadata": {},
   "source": [
    "(1a)\n",
    "\n",
    "Banknote Authentication Data Set\n",
    "\n",
    "source: https://archive.ics.uci.edu/ml/datasets/banknote+authentication"
   ]
  },
  {
   "cell_type": "code",
   "execution_count": 4,
   "metadata": {},
   "outputs": [
    {
     "name": "stdout",
     "output_type": "stream",
     "text": [
      "test: 472\n",
      "train: 900\n"
     ]
    }
   ],
   "source": [
    "# build dataframe from csv file\n",
    "df = pd.read_csv(dirpath + filename, header=None)\n",
    "df.columns = [\"variance\", \"skewness\", \"curtosis\", \"entropy\", \"class\"]\n",
    "\n",
    "# shuffle the data\n",
    "np_data = np.array(df)\n",
    "np.random.shuffle(np_data)\n",
    "\n",
    "# split data as 472 test and rest as train\n",
    "# choose 472 test points randomly\n",
    "# shuffle the data randomly initially, then selected first 472\n",
    "np_test = np_data[:472]\n",
    "np_train = np_data[472:]\n",
    "\n",
    "print(\"test:\", np_test.shape[0])\n",
    "print(\"train:\", np_train.shape[0])"
   ]
  },
  {
   "cell_type": "markdown",
   "metadata": {},
   "source": [
    "(1b) sec i"
   ]
  },
  {
   "cell_type": "code",
   "execution_count": 14,
   "metadata": {},
   "outputs": [
    {
     "name": "stdout",
     "output_type": "stream",
     "text": [
      "Elasped time: 01:22:13\n"
     ]
    }
   ],
   "source": [
    "# passive learning\n",
    "start_time = time.time()\n",
    "\n",
    "error_list = []\n",
    "for i in range(50):\n",
    "    # procedure_1bi takes about 1 min 38 sec\n",
    "    error_dict_1bi = procedure_1bi(np_train, np_test)\n",
    "    error_list.append(error_dict_1bi)\n",
    "\n",
    "elapsed_time = time.time() - start_time\n",
    "print(time.strftime(\"Elasped time: %H:%M:%S\", time.gmtime(elapsed_time)))"
   ]
  },
  {
   "cell_type": "code",
   "execution_count": 34,
   "metadata": {},
   "outputs": [],
   "source": [
    "# 50 errors from passive learning \n",
    "error50_passive = []\n",
    "\n",
    "# dict training instance : avg test error\n",
    "error_dict_passive = {} \n",
    "# initialize the error_dict_passive\n",
    "for t in range(90):\n",
    "    error_dict_passive[(t+1)*10] = 0\n",
    "\n",
    "# iterate the passive error_list\n",
    "for p in range(len(error_list)):\n",
    "    # at iteration i, average the test errors generated by 90 SVM\n",
    "    avg_error = np.average(list(error_list[p].values()))\n",
    "    error50_passive.append(avg_error)\n",
    "    \n",
    "    # accumulator for training instance : test error\n",
    "    for t,e in error_list[p].items():\n",
    "        error_dict_passive[t*10] += e\n",
    "\n",
    "# update values in error_dict_passive\n",
    "# to plot avg test error vs num of training instance\n",
    "for t in error_dict_passive.keys():\n",
    "    error_dict_passive[t] = error_dict_passive[t]/50\n",
    "\n",
    "# avg test errors for 90 SVMs equivalent to performing Monte Carlo simulation\n",
    "test_error_passive = np.average(error50_passive) "
   ]
  },
  {
   "cell_type": "markdown",
   "metadata": {},
   "source": [
    "(1b) sec ii"
   ]
  },
  {
   "cell_type": "code",
   "execution_count": 32,
   "metadata": {},
   "outputs": [
    {
     "name": "stdout",
     "output_type": "stream",
     "text": [
      "Elasped time: 01:21:14\n"
     ]
    }
   ],
   "source": [
    "# active learning\n",
    "start_time = time.time()\n",
    "\n",
    "error_list2 = []\n",
    "for i in range(50):\n",
    "    # procedure_1bii takes about 1 min 36 sec\n",
    "    error_dict_1bii = procedure_1bii(np_train, np_test)\n",
    "    error_list2.append(error_dict_1bii)\n",
    "\n",
    "elapsed_time = time.time() - start_time\n",
    "print(time.strftime(\"Elasped time: %H:%M:%S\", time.gmtime(elapsed_time)))"
   ]
  },
  {
   "cell_type": "code",
   "execution_count": 35,
   "metadata": {},
   "outputs": [],
   "source": [
    "# 50 errors from active learning \n",
    "error50_active = []\n",
    "\n",
    "# dict training instance : avg test error\n",
    "error_dict_active = {} \n",
    "# initialize the error_dict_passive\n",
    "for t in range(90):\n",
    "    error_dict_active[(t+1)*10] = 0\n",
    "\n",
    "# iterate the passive error_list\n",
    "for p in range(len(error_list2)):\n",
    "    # at iteration i, average the test errors generated by 90 SVM\n",
    "    avg_error = np.average(list(error_list2[p].values()))\n",
    "    error50_active.append(avg_error)\n",
    "    \n",
    "    # accumulator for training instance : test error\n",
    "    for t,e in error_list2[p].items():\n",
    "        error_dict_active[t*10] += e\n",
    "\n",
    "# update values in error_dict_active\n",
    "# to plot avg test error vs num of training instance\n",
    "for t in error_dict_active.keys():\n",
    "    error_dict_active[t] = error_dict_active[t]/50\n",
    "\n",
    "# avg test errors for 90 SVMs equivalent to performing Monte Carlo simulation\n",
    "test_error_active = np.average(error50_active) "
   ]
  },
  {
   "cell_type": "markdown",
   "metadata": {},
   "source": [
    "(1c)\n",
    "\n",
    "Looking at the results below, the average test error for passive and active learning are 0.988358 and 0.988452, respectively. Both are quite equivalent.\n",
    "\n",
    "When looking at the Passive and Active Learning Plots (number of training instances vs average test error), it seems that for passive learning, we see a smooth improvement in test error as the number of training instances increases. On the other hand, for active learning, there is some jaggadness before the test error converges.\n"
   ]
  },
  {
   "cell_type": "code",
   "execution_count": 39,
   "metadata": {},
   "outputs": [
    {
     "name": "stdout",
     "output_type": "stream",
     "text": [
      "Passive Test Error in 1(b)i: 0.988358\n",
      "Active Test Error in 1(b)ii: 0.988452\n"
     ]
    }
   ],
   "source": [
    "print(\"Passive Test Error in 1(b)i: {:.6f}\".format(test_error_passive))\n",
    "print(\"Active Test Error in 1(b)ii: {:.6f}\".format(test_error_active))"
   ]
  },
  {
   "cell_type": "code",
   "execution_count": 57,
   "metadata": {},
   "outputs": [
    {
     "data": {
      "image/png": "[encoded data removed]",
      "text/plain": [
       "<matplotlib.figure.Figure at 0x10c537550>"
      ]
     },
     "metadata": {},
     "output_type": "display_data"
    }
   ],
   "source": [
    "fig1 = plt.figure(1)\n",
    "ax1 = fig1.add_subplot(1,1,1)\n",
    "\n",
    "ax1.plot(list(error_dict_passive.keys()), list(error_dict_passive.values()), '-o')\n",
    "ax1.set_ylabel(\"avg test error\")\n",
    "ax1.set_xlabel(\"num of training instances\")\n",
    "\n",
    "plt.title(\"Passive Learning Plot\")\n",
    "plt.tight_layout()\n",
    "plt.show()"
   ]
  },
  {
   "cell_type": "code",
   "execution_count": 58,
   "metadata": {},
   "outputs": [
    {
     "data": {
      "image/png": "[encoded data removed]",
      "text/plain": [
       "<matplotlib.figure.Figure at 0x10b929a20>"
      ]
     },
     "metadata": {},
     "output_type": "display_data"
    }
   ],
   "source": [
    "fig2 = plt.figure(1)\n",
    "ax2 = fig2.add_subplot(1,1,1)\n",
    "\n",
    "ax2.plot(list(error_dict_active.keys()), list(error_dict_active.values()), '-o')\n",
    "ax2.set_ylabel(\"avg test error\")\n",
    "ax2.set_xlabel(\"num of training instances\")\n",
    "\n",
    "plt.title(\"Active Learning Plot\")\n",
    "plt.tight_layout()\n",
    "plt.show()"
   ]
  },
  {
   "cell_type": "markdown",
   "metadata": {},
   "source": [
    "(2a) - Multi-Class and Multi-Label Classification Using SVM\n",
    "\n",
    "Anuran Calls (MFCCs) Data Set\n",
    "\n",
    "source: https://archive.ics.uci.edu/ml/datasets/Anuran+Calls+%28MFCCs%29#\n"
   ]
  },
  {
   "cell_type": "code",
   "execution_count": 87,
   "metadata": {},
   "outputs": [
    {
     "name": "stdout",
     "output_type": "stream",
     "text": [
      "Num of Instances: 7195\n",
      "Num of Features: 22\n",
      "Num of Labels: 3\n",
      "X: 7195 22\n",
      "y1: 7195\n",
      "y2: 7195\n",
      "y3: 7195\n"
     ]
    }
   ],
   "source": [
    "# Multi-Class and Multi-Label Problem\n",
    "# each label has multi-class (approach used one versus all)\n",
    "# classifier for each label\n",
    "\n",
    "df2 = pd.read_csv(dirpath2 + filename2)\n",
    "df2 = df2.drop('RecordID', axis=1) # drop RecordID Column\n",
    "\n",
    "features = df2.columns[:-3]\n",
    "labels = df2.columns[-3:]\n",
    "\n",
    "# shuffle the data\n",
    "np_data2 = np.array(df2)\n",
    "np.random.shuffle(np_data2)\n",
    "\n",
    "print(\"Num of Instances:\", df2.shape[0])\n",
    "print(\"Num of Features:\", len(features))\n",
    "print(\"Num of Labels:\", len(labels))\n",
    "\n",
    "X = np_data2[:,np.arange(0,len(features),1)]\n",
    "y1 = np_data2[:,len(features)] # Family Label\n",
    "y2 = np_data2[:,len(features)+1] # Genus Label\n",
    "y3 = np_data2[:,len(features)+2] # Species Label\n",
    "\n",
    "print(\"X:\", X.shape[0], X.shape[1])\n",
    "print(\"y1:\", y1.shape[0])\n",
    "print(\"y2:\", y2.shape[0])\n",
    "print(\"y3:\", y3.shape[0])\n",
    "\n",
    "# split size of training (70% train, 30% test)\n",
    "ssize = math.ceil(0.7*df2.shape[0]) \n",
    "X_train, X_test = X[:ssize], X[ssize:]\n",
    "y1_train, y1_test = y1[:ssize], y1[ssize:]\n",
    "y2_train, y2_test = y2[:ssize], y2[ssize:]\n",
    "y3_train, y3_test = y3[:ssize], y3[ssize:]\n"
   ]
  },
  {
   "cell_type": "markdown",
   "metadata": {},
   "source": [
    "(2b) sec i\n",
    "\n",
    "Exact Match (accuracy) is ratio of samples that have all their labels correctly classified.\n",
    "\n",
    "Hamming Score/Loss is ratio of wrong lables to the total number of labels.\n",
    "\n",
    "source: https://en.wikipedia.org/wiki/Multi-label_classification#Statistics_and_evaluation_metrics\n",
    "\n",
    "source: http://scikit-learn.org/stable/modules/generated/sklearn.metrics.hamming_loss.html#sklearn.metrics.hamming_loss"
   ]
  },
  {
   "cell_type": "markdown",
   "metadata": {},
   "source": [
    "(2b) sec ii"
   ]
  },
  {
   "cell_type": "code",
   "execution_count": 93,
   "metadata": {},
   "outputs": [
    {
     "name": "stdout",
     "output_type": "stream",
     "text": [
      "y1 Family Label - SVM Classifier CV Result:\n",
      "opt (p,s): 6.158482110660261 1.9000000000000001 0.006551563634068605\n",
      "Elasped time: 00:18:00\n"
     ]
    }
   ],
   "source": [
    "# find SVM penalty 'p' and width of Kernel 's'\n",
    "# using 10-Fold CV with scoring hamming_loss\n",
    "\n",
    "start_time = time.time()\n",
    "\n",
    "# y1 SVM Classifer (Family Label)\n",
    "print(\"y1 Family Label - SVM Classifier CV Result:\")\n",
    "opt_p1, opt_s1, cv_error1 = procedure_2bii(X_train, y1_train)\n",
    "print(\"opt (p,s):\", opt_p1, opt_s1, cv_error1)\n",
    "\n",
    "elapsed_time = time.time() - start_time\n",
    "print(time.strftime(\"Elasped time: %H:%M:%S\", time.gmtime(elapsed_time)))"
   ]
  },
  {
   "cell_type": "code",
   "execution_count": 94,
   "metadata": {},
   "outputs": [
    {
     "name": "stdout",
     "output_type": "stream",
     "text": [
      "y2 Genus Label - SVM Classifier CV Result:\n",
      "opt (p,s): 6.158482110660261 1.8000000000000003 0.00833727791978289\n",
      "Elasped time: 00:18:53\n"
     ]
    }
   ],
   "source": [
    "start_time = time.time()\n",
    "\n",
    "# y2 SVM Classifer (Genus Label)\n",
    "print(\"y2 Genus Label - SVM Classifier CV Result:\")\n",
    "opt_p2, opt_s2, cv_error2 = procedure_2bii(X_train, y2_train)\n",
    "print(\"opt (p,s):\", opt_p2, opt_s2, cv_error2)\n",
    "\n",
    "elapsed_time = time.time() - start_time\n",
    "print(time.strftime(\"Elasped time: %H:%M:%S\", time.gmtime(elapsed_time)))"
   ]
  },
  {
   "cell_type": "code",
   "execution_count": 95,
   "metadata": {},
   "outputs": [
    {
     "name": "stdout",
     "output_type": "stream",
     "text": [
      "y3 Species Label - SVM Classifier CV Result:\n",
      "opt (p,s): 18.32980710832434 1.6 0.008138470762725235\n",
      "Elasped time: 00:19:14\n"
     ]
    }
   ],
   "source": [
    "start_time = time.time()\n",
    "\n",
    "# y3 SVM Classifer (Species Label)\n",
    "print(\"y3 Species Label - SVM Classifier CV Result:\")\n",
    "opt_p3, opt_s3, cv_error3 = procedure_2bii(X_train, y3_train)\n",
    "print(\"opt (p,s):\", opt_p3, opt_s3, cv_error3)\n",
    "\n",
    "elapsed_time = time.time() - start_time\n",
    "print(time.strftime(\"Elasped time: %H:%M:%S\", time.gmtime(elapsed_time)))"
   ]
  },
  {
   "cell_type": "code",
   "execution_count": 101,
   "metadata": {},
   "outputs": [
    {
     "name": "stdout",
     "output_type": "stream",
     "text": [
      "y1 Family Label - SVM Classifer Test Error:\n",
      "penalty, width (signma): 6.158, 1.900\n",
      "test error (hamming_loss): 0.009268\n",
      "\n",
      "y2 Genus Label - SVM Classifer Test Error:\n",
      "penalty, width (signma): 6.158, 1.800\n",
      "test error (hamming_loss): 0.013902\n",
      "\n",
      "y3 Species Label - SVM Classifer Test Error:\n",
      "penalty, width (signma): 18.330, 1.600\n",
      "test error (hamming_loss): 0.012512\n"
     ]
    }
   ],
   "source": [
    "print(\"y1 Family Label - SVM Classifer Test Error:\")\n",
    "print(\"penalty, width (signma): {:.3f}, {:.3f}\".format(opt_p1, opt_s1))\n",
    "print(\"test error (hamming_loss): {:.6f}\".format(get_test_error_2bii(X_train, y1_train, \n",
    "                                                                     X_test, y1_test, \n",
    "                                                                     opt_p1, opt_s1)))\n",
    "\n",
    "print(\"\\ny2 Genus Label - SVM Classifer Test Error:\")\n",
    "print(\"penalty, width (signma): {:.3f}, {:.3f}\".format(opt_p2, opt_s2))\n",
    "print(\"test error (hamming_loss): {:.6f}\".format(get_test_error_2bii(X_train, y2_train, \n",
    "                                                                     X_test, y2_test, \n",
    "                                                                     opt_p2, opt_s2)))\n",
    "\n",
    "print(\"\\ny3 Species Label - SVM Classifer Test Error:\")\n",
    "print(\"penalty, width (signma): {:.3f}, {:.3f}\".format(opt_p3, opt_s3))\n",
    "print(\"test error (hamming_loss): {:.6f}\".format(get_test_error_2bii(X_train, y3_train, \n",
    "                                                                     X_test, y3_test, \n",
    "                                                                     opt_p3, opt_s3)))"
   ]
  },
  {
   "cell_type": "markdown",
   "metadata": {},
   "source": [
    "(2b) sec iii"
   ]
  },
  {
   "cell_type": "code",
   "execution_count": 104,
   "metadata": {},
   "outputs": [
    {
     "name": "stdout",
     "output_type": "stream",
     "text": [
      "y1 Family Label - SVM L1 Classifier CV Result:\n"
     ]
    },
    {
     "name": "stderr",
     "output_type": "stream",
     "text": [
      "/anaconda3/lib/python3.6/site-packages/sklearn/utils/validation.py:475: DataConversionWarning: Data with input dtype object was converted to float64 by the scale function.\n",
      "  warnings.warn(msg, DataConversionWarning)\n"
     ]
    },
    {
     "name": "stdout",
     "output_type": "stream",
     "text": [
      "opt p, cv error: 2.069138081114788 0.06432358231563004\n",
      "Elasped time: 00:04:43\n"
     ]
    }
   ],
   "source": [
    "# find SVM penalty 'p' for L1-SVM\n",
    "# using 10-Fold CV with scoring hamming_loss\n",
    "\n",
    "start_time = time.time()\n",
    "\n",
    "# y1 SVM Classifer (Family Label)\n",
    "print(\"y1 Family Label - SVM L1 Classifier CV Result:\")\n",
    "opt_p1_l1, cv_error1_l1 = procedure_2biii(X_train, y1_train)\n",
    "print(\"opt p, cv error:\", opt_p1_l1, cv_error1_l1)\n",
    "\n",
    "elapsed_time = time.time() - start_time\n",
    "print(time.strftime(\"Elasped time: %H:%M:%S\", time.gmtime(elapsed_time)))\n"
   ]
  },
  {
   "cell_type": "code",
   "execution_count": 105,
   "metadata": {},
   "outputs": [
    {
     "name": "stdout",
     "output_type": "stream",
     "text": [
      "y2 Genus Label - SVM L1 Classifier CV Result:\n"
     ]
    },
    {
     "name": "stderr",
     "output_type": "stream",
     "text": [
      "/anaconda3/lib/python3.6/site-packages/sklearn/utils/validation.py:475: DataConversionWarning: Data with input dtype object was converted to float64 by the scale function.\n",
      "  warnings.warn(msg, DataConversionWarning)\n"
     ]
    },
    {
     "name": "stdout",
     "output_type": "stream",
     "text": [
      "opt p, cv error: 6.158482110660261 0.04566253274006753\n",
      "Elasped time: 00:07:35\n"
     ]
    }
   ],
   "source": [
    "start_time = time.time()\n",
    "\n",
    "# y2 SVM Classifer (Genus Label)\n",
    "print(\"y2 Genus Label - SVM L1 Classifier CV Result:\")\n",
    "opt_p2_l1, cv_error2_l1 = procedure_2biii(X_train, y2_train)\n",
    "print(\"opt p, cv error:\", opt_p2_l1, cv_error2_l1)\n",
    "\n",
    "elapsed_time = time.time() - start_time\n",
    "print(time.strftime(\"Elasped time: %H:%M:%S\", time.gmtime(elapsed_time)))"
   ]
  },
  {
   "cell_type": "code",
   "execution_count": 107,
   "metadata": {},
   "outputs": [
    {
     "name": "stdout",
     "output_type": "stream",
     "text": [
      "y3 Species Label - SVM L1 Classifier CV Result:\n"
     ]
    },
    {
     "name": "stderr",
     "output_type": "stream",
     "text": [
      "/anaconda3/lib/python3.6/site-packages/sklearn/utils/validation.py:475: DataConversionWarning: Data with input dtype object was converted to float64 by the scale function.\n",
      "  warnings.warn(msg, DataConversionWarning)\n"
     ]
    },
    {
     "name": "stdout",
     "output_type": "stream",
     "text": [
      "opt p, cv error: 6.158482110660261 0.041691517561298866\n",
      "Elasped time: 00:07:28\n"
     ]
    }
   ],
   "source": [
    "start_time = time.time()\n",
    "\n",
    "# y3 SVM Classifer (Species Label)\n",
    "print(\"y3 Species Label - SVM L1 Classifier CV Result:\")\n",
    "opt_p3_l1, cv_error3_l1 = procedure_2biii(X_train, y3_train)\n",
    "print(\"opt p, cv error:\", opt_p3_l1, cv_error3_l1)\n",
    "\n",
    "elapsed_time = time.time() - start_time\n",
    "print(time.strftime(\"Elasped time: %H:%M:%S\", time.gmtime(elapsed_time)))"
   ]
  },
  {
   "cell_type": "code",
   "execution_count": 111,
   "metadata": {},
   "outputs": [
    {
     "name": "stdout",
     "output_type": "stream",
     "text": [
      "y1 Family Label - SVM L1 Classifer Test Error:\n",
      "penalty L1: 2.069\n"
     ]
    },
    {
     "name": "stderr",
     "output_type": "stream",
     "text": [
      "/anaconda3/lib/python3.6/site-packages/sklearn/utils/validation.py:475: DataConversionWarning: Data with input dtype object was converted to float64 by the scale function.\n",
      "  warnings.warn(msg, DataConversionWarning)\n"
     ]
    },
    {
     "name": "stdout",
     "output_type": "stream",
     "text": [
      "test error (hamming_loss): 0.063021\n",
      "\n",
      "y2 Genus Label - SVM L1 Classifer Test Error:\n",
      "penalty L1: 6.158\n",
      "test error (hamming_loss): 0.053290\n",
      "\n",
      "y3 Species Label - SVM L1 Classifer Test Error:\n",
      "penalty L1: 6.158\n",
      "test error (hamming_loss): 0.041242\n"
     ]
    }
   ],
   "source": [
    "print(\"y1 Family Label - SVM L1 Classifer Test Error:\")\n",
    "print(\"penalty L1: {:.3f}\".format(opt_p1_l1))\n",
    "print(\"test error (hamming_loss): {:.6f}\".format(get_test_error_2biii(X_train, y1_train, \n",
    "                                                                     X_test, y1_test, opt_p1_l1)))\n",
    "\n",
    "print(\"\\ny2 Genus Label - SVM L1 Classifer Test Error:\")\n",
    "print(\"penalty L1: {:.3f}\".format(opt_p2_l1))\n",
    "print(\"test error (hamming_loss): {:.6f}\".format(get_test_error_2biii(X_train, y2_train, \n",
    "                                                                     X_test, y2_test, opt_p2_l1)))\n",
    "\n",
    "print(\"\\ny3 Species Label - SVM L1 Classifer Test Error:\")\n",
    "print(\"penalty L1: {:.3f}\".format(opt_p3_l1))\n",
    "print(\"test error (hamming_loss): {:.6f}\".format(get_test_error_2biii(X_train, y3_train, \n",
    "                                                                     X_test, y3_test, opt_p3_l1)))"
   ]
  },
  {
   "cell_type": "markdown",
   "metadata": {},
   "source": [
    "(2b) sec iv"
   ]
  },
  {
   "cell_type": "code",
   "execution_count": 113,
   "metadata": {},
   "outputs": [
    {
     "name": "stdout",
     "output_type": "stream",
     "text": [
      "y1 Family Label - SVM (Class Balanced) Classifier CV Result:\n",
      "opt p, s, cv error: 18.32980710832434 1.9000000000000001 0.006750370791126259\n",
      "Elasped time: 00:31:12\n"
     ]
    }
   ],
   "source": [
    "# find SVM penalty 'p' and width of Kernel 's'\n",
    "# handle class balance using parameter class_weight: 'balanced'\n",
    "# using 10-Fold CV with scoring hamming_loss\n",
    "\n",
    "start_time = time.time()\n",
    "\n",
    "# y1 SVM Balanced Class Classifer (Family Label)\n",
    "print(\"y1 Family Label - SVM (Class Balanced) Classifier CV Result:\")\n",
    "opt_p1_bal, opt_s1_bal, cv_error1_bal = procedure_2biv(X_train, y1_train)\n",
    "print(\"opt p, s, cv error:\", opt_p1_bal, opt_s1_bal, cv_error1_bal)\n",
    "\n",
    "elapsed_time = time.time() - start_time\n",
    "print(time.strftime(\"Elasped time: %H:%M:%S\", time.gmtime(elapsed_time)))"
   ]
  },
  {
   "cell_type": "code",
   "execution_count": 114,
   "metadata": {},
   "outputs": [
    {
     "name": "stdout",
     "output_type": "stream",
     "text": [
      "y2 Genus Label - SVM (Class Balanced) Classifier CV Result:\n",
      "opt p, s, cv error: 18.32980710832434 2.0 0.00873449777525324\n",
      "Elasped time: 00:51:47\n"
     ]
    }
   ],
   "source": [
    "start_time = time.time()\n",
    "\n",
    "# y2 SVM Balanced Class Classifer (Genus Label)\n",
    "print(\"y2 Genus Label - SVM (Class Balanced) Classifier CV Result:\")\n",
    "opt_p2_bal, opt_s2_bal, cv_error2_bal = procedure_2biv(X_train, y2_train)\n",
    "print(\"opt p, s, cv error:\", opt_p2_bal, opt_s2_bal, cv_error2_bal)\n",
    "\n",
    "elapsed_time = time.time() - start_time\n",
    "print(time.strftime(\"Elasped time: %H:%M:%S\", time.gmtime(elapsed_time)))"
   ]
  },
  {
   "cell_type": "code",
   "execution_count": 115,
   "metadata": {},
   "outputs": [
    {
     "name": "stdout",
     "output_type": "stream",
     "text": [
      "y3 Species Label - SVM (Class Balanced) Classifier CV Result:\n",
      "opt p, s, cv error: 54.555947811685144 1.6 0.008138865221370192\n",
      "Elasped time: 00:46:16\n"
     ]
    }
   ],
   "source": [
    "start_time = time.time()\n",
    "\n",
    "# y3 SVM Balanced Class Classifer (Genus Label)\n",
    "print(\"y3 Species Label - SVM (Class Balanced) Classifier CV Result:\")\n",
    "opt_p3_bal, opt_s3_bal, cv_error3_bal = procedure_2biv(X_train, y3_train)\n",
    "print(\"opt p, s, cv error:\", opt_p3_bal, opt_s3_bal, cv_error3_bal)\n",
    "\n",
    "elapsed_time = time.time() - start_time\n",
    "print(time.strftime(\"Elasped time: %H:%M:%S\", time.gmtime(elapsed_time)))"
   ]
  },
  {
   "cell_type": "code",
   "execution_count": 116,
   "metadata": {},
   "outputs": [
    {
     "name": "stdout",
     "output_type": "stream",
     "text": [
      "y1 Family Label - SVM (Class Balanced) Classifer Test Error:\n",
      "penalty, width (signma): 18.330, 1.900\n",
      "test error (hamming_loss): 0.007878\n",
      "\n",
      "y2 Genus Label - SVM (Class Balanced) Classifer Test Error:\n",
      "penalty, width (signma): 18.330, 2.000\n",
      "test error (hamming_loss): 0.013902\n",
      "\n",
      "y3 Species Label - SVM (Class Balanced) Classifer Test Error:\n",
      "penalty, width (signma): 54.556, 1.600\n",
      "test error (hamming_loss): 0.012975\n"
     ]
    }
   ],
   "source": [
    "print(\"y1 Family Label - SVM (Class Balanced) Classifer Test Error:\")\n",
    "print(\"penalty, width (signma): {:.3f}, {:.3f}\".format(opt_p1_bal, opt_s1_bal))\n",
    "print(\"test error (hamming_loss): {:.6f}\".format(get_test_error_2biv(X_train, y1_train, \n",
    "                                                                     X_test, y1_test, \n",
    "                                                                     opt_p1_bal, opt_s1_bal)))\n",
    "\n",
    "print(\"\\ny2 Genus Label - SVM (Class Balanced) Classifer Test Error:\")\n",
    "print(\"penalty, width (signma): {:.3f}, {:.3f}\".format(opt_p2_bal, opt_s2_bal))\n",
    "print(\"test error (hamming_loss): {:.6f}\".format(get_test_error_2biv(X_train, y2_train, \n",
    "                                                                     X_test, y2_test, \n",
    "                                                                     opt_p2_bal, opt_s2_bal)))\n",
    "\n",
    "print(\"\\ny3 Species Label - SVM (Class Balanced) Classifer Test Error:\")\n",
    "print(\"penalty, width (signma): {:.3f}, {:.3f}\".format(opt_p3_bal, opt_s3_bal))\n",
    "print(\"test error (hamming_loss): {:.6f}\".format(get_test_error_2biv(X_train, y3_train, \n",
    "                                                                     X_test, y3_test, \n",
    "                                                                     opt_p3_bal, opt_s3_bal)))"
   ]
  },
  {
   "cell_type": "markdown",
   "metadata": {},
   "source": [
    "(3a) K-Means Clustering on Multi-Class and Multi-Label"
   ]
  },
  {
   "cell_type": "code",
   "execution_count": 7,
   "metadata": {},
   "outputs": [
    {
     "name": "stdout",
     "output_type": "stream",
     "text": [
      "Num of Instances: 7195\n",
      "Num of Features: 22\n",
      "Num of Labels: 3\n"
     ]
    }
   ],
   "source": [
    "from sklearn.cluster import KMeans\n",
    "from sklearn.metrics import calinski_harabaz_score, hamming_loss\n",
    "\n",
    "from scipy import stats\n",
    "\n",
    "\n",
    "dirpath2 = \"/Users/ymkim/Desktop/inf552-hw4-workspace/data/Anuran Calls (MFCCs)/\"\n",
    "filename2 = \"Frogs_MFCCs.csv\"\n",
    "\n",
    "df2 = pd.read_csv(dirpath2 + filename2)\n",
    "df2 = df2.drop('RecordID', axis=1) # drop RecordID Column\n",
    "\n",
    "\n",
    "features = df2.columns[:-3]\n",
    "labels = df2.columns[-3:]\n",
    "\n",
    "print(\"Num of Instances:\", df2.shape[0])\n",
    "print(\"Num of Features:\", len(features))\n",
    "print(\"Num of Labels:\", len(labels))\n",
    "\n",
    "X = np.array(df2[features])\n",
    "y1 = np.array(df2[labels[0]])\n",
    "y2 = np.array(df2[labels[1]])\n",
    "y3 = np.array(df2[labels[2]])\n"
   ]
  },
  {
   "cell_type": "code",
   "execution_count": 8,
   "metadata": {},
   "outputs": [],
   "source": [
    "# return k, CH index score\n",
    "def procedure_3a(X):\n",
    "    k_list = np.arange(2, 11, 1)\n",
    "    ch_indx_scores = []\n",
    "    for k in k_list:\n",
    "        kmeans_model = KMeans(n_clusters=k).fit(X)\n",
    "        y_pred = kmeans_model.labels_\n",
    "\n",
    "        # source: http://scikit-learn.org/stable/modules/clustering.html#calinski-harabaz-index\n",
    "        # ch_index is higher when clusters are dense and well separated,\n",
    "        # which relates to a standard concept of a cluster.\n",
    "        ch_index = calinski_harabaz_score(X, y_pred)\n",
    "        ch_indx_scores.append(ch_index)\n",
    "\n",
    "    opt_k = np.argmax(ch_indx_scores) + 2\n",
    "    return opt_k, ch_indx_scores[opt_k]"
   ]
  },
  {
   "cell_type": "markdown",
   "metadata": {},
   "source": [
    "(3b)"
   ]
  },
  {
   "cell_type": "code",
   "execution_count": 9,
   "metadata": {},
   "outputs": [],
   "source": [
    "# return labels assigned to each cluters and data points assigned to each cluter\n",
    "def procedure_3b(opt_k, X, y1, y2, y3):\n",
    "    kmeans_model = KMeans(n_clusters=opt_k).fit(X)\n",
    "    y_pred = kmeans_model.labels_\n",
    "\n",
    "    # build data_cluster_dict where key is cluster label, value is list of index into X\n",
    "    data_cluster_dict = {}\n",
    "    for i in range(len(y_pred)):\n",
    "        cluster_label = y_pred[i]\n",
    "\n",
    "        if cluster_label in data_cluster_dict:\n",
    "            data_cluster_dict[cluster_label].append(i)\n",
    "        else:\n",
    "            data_cluster_dict[cluster_label] = [i]\n",
    "            \n",
    "    y_true_matrix = [y1, y2, y3]\n",
    "    \n",
    "    label_cluster_dict = {}\n",
    "    # iterate through the data points in each cluster to find majority class label\n",
    "    for k in data_cluster_dict.keys():\n",
    "        # print(k, len(data_cluster_dict[k]))\n",
    "\n",
    "        y_labels_matrix = [[], [], []] # family, genus, species\n",
    "\n",
    "        # find the majority class in each cluster for each label\n",
    "        for i in data_cluster_dict[k]:\n",
    "            # true labels of data in each cluster k\n",
    "            for j in range(len(y_labels_matrix)):\n",
    "                y_labels_matrix[j].append(y_true_matrix[j][i])\n",
    "\n",
    "        # most frequent class for each label in cluster k\n",
    "        # each index i represents label family, genus, species\n",
    "        pred_class = []\n",
    "        for j in range(len(y_labels_matrix)):\n",
    "            most_freq_class = stats.mode(y_labels_matrix[j], nan_policy='omit')[0][0]\n",
    "            pred_class.append(most_freq_class)\n",
    "\n",
    "        label_cluster_dict[k] = pred_class\n",
    "        \n",
    "    return label_cluster_dict, data_cluster_dict"
   ]
  },
  {
   "cell_type": "markdown",
   "metadata": {},
   "source": [
    "(3c)"
   ]
  },
  {
   "cell_type": "code",
   "execution_count": 10,
   "metadata": {},
   "outputs": [],
   "source": [
    "def procedure_3c(label_cluster_dict, data_cluster_dict, y1, y2, y3):\n",
    "    y1_pred = np.empty(y1.shape[0], dtype=object)\n",
    "    y2_pred = np.empty(y2.shape[0], dtype=object)\n",
    "    y3_pred = np.empty(y3.shape[0], dtype=object)\n",
    "    \n",
    "    y_pred_matrix = [y1_pred, y2_pred, y3_pred]\n",
    "    \n",
    "    for k in data_cluster_dict.keys():\n",
    "        # build predicted y1, y2, y3 with majority labels\n",
    "        for i in data_cluster_dict[k]:\n",
    "            for j in range(len(y_pred_matrix)):\n",
    "                y_pred_matrix[j][i] = label_cluster_dict[k][j]\n",
    "                # print(label_cluster_dict[k][j])\n",
    "\n",
    "    score1 = hamming_loss(y1, y_pred_matrix[0])\n",
    "    score2 = hamming_loss(y2, y_pred_matrix[1])\n",
    "    score3 = hamming_loss(y3, y_pred_matrix[2])\n",
    "    \n",
    "    return score1, score2, score3"
   ]
  },
  {
   "cell_type": "code",
   "execution_count": 11,
   "metadata": {},
   "outputs": [
    {
     "name": "stderr",
     "output_type": "stream",
     "text": [
      "/anaconda3/lib/python3.6/site-packages/scipy/stats/stats.py:245: RuntimeWarning: The input array could not be properly checked for nan values. nan values will be ignored.\n",
      "  \"values. nan values will be ignored.\", RuntimeWarning)\n"
     ]
    },
    {
     "name": "stdout",
     "output_type": "stream",
     "text": [
      "(mean, std) of hamming score: 0.29854065323141077 5.551115123125783e-17\n"
     ]
    }
   ],
   "source": [
    "avg_hamming_score = []\n",
    "\n",
    "df2 = pd.read_csv(dirpath2 + filename2)\n",
    "df2 = df2.drop('RecordID', axis=1) # drop RecordID Column\n",
    "\n",
    "features = df2.columns[:-3]\n",
    "labels = df2.columns[-3:]\n",
    "\n",
    "for i in range(50):\n",
    "    df2 = df2.sample(frac=1)    \n",
    "    X = np.array(df2[features])\n",
    "    y1 = np.array(df2[labels[0]])\n",
    "    y2 = np.array(df2[labels[1]])\n",
    "    y3 = np.array(df2[labels[2]])\n",
    "\n",
    "    opt_k, ch_index_score = procedure_3a(X)\n",
    "    label_cluster_dict, data_cluster_dict = procedure_3b(opt_k, X, y1, y2, y3)\n",
    "    score1, score2, score3 = procedure_3c(label_cluster_dict, data_cluster_dict, y1, y2, y3)\n",
    "\n",
    "    avg_score = sum([score1, score2, score3])/3\n",
    "    avg_hamming_score.append(avg_score)\n",
    "    \n",
    "    #print(\"Iteration:\", i+1)\n",
    "    #print(\"opt k cluster: {}, CH index score: {}\".format(opt_k, ch_index_score))\n",
    "    #for k in label_cluster_dict.keys():\n",
    "    #    print(\"cluter k[{}] have majority labels[family, genus, species]: {}\".format(k, label_cluster_dict[k]))\n",
    "    #print(\"avg hamming score:\", avg_score)\n",
    "    #print(\"\\n\")\n",
    "\n",
    "hs_mean_50 = np.mean(avg_hamming_score)\n",
    "hs_std_50 = np.std(avg_hamming_score)\n",
    "\n",
    "print(\"(mean, std) of hamming score:\", hs_mean_50, hs_std_50)\n",
    "    \n",
    "    \n",
    "    "
   ]
  },
  {
   "cell_type": "markdown",
   "metadata": {},
   "source": [
    "(4) ISLR-10.7.2 see attachments"
   ]
  },
  {
   "cell_type": "code",
   "execution_count": null,
   "metadata": {},
   "outputs": [],
   "source": []
  }
 ],
 "metadata": {
  "kernelspec": {
   "display_name": "Python 3",
   "language": "python",
   "name": "python3"
  },
  "language_info": {
   "codemirror_mode": {
    "name": "ipython",
    "version": 3
   },
   "file_extension": ".py",
   "mimetype": "text/x-python",
   "name": "python",
   "nbconvert_exporter": "python",
   "pygments_lexer": "ipython3",
   "version": "3.6.4"
  }
 },
 "nbformat": 4,
 "nbformat_minor": 2
}
